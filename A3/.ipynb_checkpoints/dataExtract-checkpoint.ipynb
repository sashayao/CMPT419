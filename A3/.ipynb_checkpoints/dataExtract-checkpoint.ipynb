{
 "cells": [
  {
   "cell_type": "code",
   "execution_count": 11,
   "metadata": {},
   "outputs": [],
   "source": [
    "#imports\n",
    "import pandas as pd     \n",
    "import matplotlib.pyplot as plt    \n",
    "%matplotlib inline\n",
    "import seaborn as sns    \n",
    "import numpy as np\n",
    "from sklearn.mixture import GaussianMixture as GMM\n",
    "import os\n",
    "sns.set(style=\"darkgrid\")\n",
    "from math import pi\n",
    "import os\n",
    "from glob import glob"
   ]
  },
  {
   "cell_type": "code",
   "execution_count": 12,
   "metadata": {},
   "outputs": [],
   "source": [
    "def getData(PATH, name):\n",
    "#     PATH = \"happinessData/\"\n",
    "    EXT = \"*.csv\"\n",
    "    files = [file for path, subdir, files in os.walk(PATH)\n",
    "                for file in glob(os.path.join(path, EXT))]\n",
    "    l = []\n",
    "    for f,i in zip(files, range(len(files))):\n",
    "        df = pd.read_csv(f)\n",
    "        df['video'] = np.full(len(df), i, dtype = int)\n",
    "        l.append(df)\n",
    "    df = pd.concat(l, ignore_index=True)\n",
    "    df['name'] = name\n",
    "    df = df.rename(columns=lambda x: x.strip())\n",
    "    return df"
   ]
  },
  {
   "cell_type": "code",
   "execution_count": 13,
   "metadata": {},
   "outputs": [],
   "source": [
    "def processData(df):\n",
    "    df = df[df['success'] != 0]\n",
    "    df = df[df['confidence'] > 0.85]\n",
    "    #extracting features\n",
    "    au = [ 'face_id','video', 'gaze_angle_x', 'gaze_angle_y', 'pose_Rx', 'pose_Ry', 'pose_Rz']\n",
    "    for x in df.columns:\n",
    "        if '_r' in x and 'AU' in x:\n",
    "            au.append(x)\n",
    "\n",
    "    df = df[au]\n",
    "    return df"
   ]
  },
  {
   "cell_type": "code",
   "execution_count": 16,
   "metadata": {},
   "outputs": [],
   "source": [
    "happy = pd.DataFrame();\n",
    "\n",
    "happy = getData(\"happiness/\", \"happy\")\n",
    "happy = processData(happy)"
   ]
  }
 ],
 "metadata": {
  "kernelspec": {
   "display_name": "Python 3",
   "language": "python",
   "name": "python3"
  },
  "language_info": {
   "codemirror_mode": {
    "name": "ipython",
    "version": 3
   },
   "file_extension": ".py",
   "mimetype": "text/x-python",
   "name": "python",
   "nbconvert_exporter": "python",
   "pygments_lexer": "ipython3",
   "version": "3.8.3"
  }
 },
 "nbformat": 4,
 "nbformat_minor": 4
}
